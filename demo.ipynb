{
 "cells": [
  {
   "cell_type": "markdown",
   "source": [
    "# Demo"
   ],
   "metadata": {
    "collapsed": false
   },
   "id": "f2d0478bdc138c4b"
  },
  {
   "cell_type": "code",
   "execution_count": null,
   "outputs": [],
   "source": [
    "%load_ext autoreload\n",
    "%autoreload 2\n",
    "\n",
    "from stable_baselines3.ppo import PPO\n",
    "from stable_baselines3.ppo.policies import MlpPolicy\n",
    "\n",
    "from gym_pcgrl.wrappers import SwapFullWrapper\n",
    "from utils import generate_preset_diff"
   ],
   "metadata": {
    "collapsed": false
   },
   "id": "99f7a67cb6a75773"
  },
  {
   "cell_type": "code",
   "execution_count": null,
   "outputs": [],
   "source": [
    "BALANCING = 0.5"
   ],
   "metadata": {
    "collapsed": false
   },
   "id": "76dde862f411ec3"
  },
  {
   "cell_type": "code",
   "execution_count": null,
   "outputs": [],
   "source": [
    "# define environment\n",
    "def create_env(env=\"nmmodiff\", size=6):\n",
    "    env_config = {\n",
    "        \"sim_runs\": 14,\n",
    "        \"init_random_map\": generate_preset_diff,\n",
    "        \"width\": size,\n",
    "        \"height\": size,\n",
    "        \"b_method\": 0,\n",
    "        \"balancing\": BALANCING\n",
    "    }\n",
    "    env_name = '{}-{}-v0'.format(env, \"swap\")\n",
    "    return SwapFullWrapper(env_name, **env_config)"
   ],
   "metadata": {
    "collapsed": false
   },
   "id": "a96e744961360a14"
  },
  {
   "cell_type": "code",
   "execution_count": null,
   "outputs": [],
   "source": [
    "# create env\n",
    "env = create_env()\n",
    "obs, stats = env.reset()\n",
    "print(\"Initial balancing of random level:\", stats[\"balancing\"])"
   ],
   "metadata": {
    "collapsed": false
   },
   "id": "ac71ad4f757b7cb9"
  },
  {
   "cell_type": "code",
   "execution_count": null,
   "outputs": [],
   "source": [
    "env.render()"
   ],
   "metadata": {
    "collapsed": false
   },
   "id": "6ec8925e6d87d5b2"
  },
  {
   "cell_type": "code",
   "execution_count": null,
   "outputs": [],
   "source": [
    "# load model\n",
    "path = f\"models/wide_swap/balancing_{str(BALANCING).replace('.', '_')}.zip\"\n",
    "model = PPO(MlpPolicy, env, n_steps=128).load(path, env)"
   ],
   "metadata": {
    "collapsed": false
   },
   "id": "d7f9c545ccbbcd4c"
  },
  {
   "cell_type": "code",
   "execution_count": null,
   "outputs": [],
   "source": [],
   "metadata": {
    "collapsed": false
   },
   "id": "93379918088c894a"
  },
  {
   "cell_type": "code",
   "execution_count": null,
   "outputs": [],
   "source": [
    "def inference(model_, env):\n",
    "    obs, _ = env.reset()\n",
    "    init_info = env.unwrapped.get_rep_stats()\n",
    "    init_map = env.unwrapped.get_map()\n",
    "    \n",
    "    print(\"Balancing start\", round(init_info[\"balancing\"], 1))\n",
    "\n",
    "    reward_total = 0\n",
    "    for i in range(100):\n",
    "        action, _ = model_.predict(obs)\n",
    "        obs, reward, done, trunc, info = env.step(action)\n",
    "        reward_total += reward\n",
    "        if done:\n",
    "            break\n",
    "            \n",
    "    print(\"Balancing after\", round(init_info[\"balancing\"], 1))\n",
    "\n",
    "    info[\"init-balancing\"] = init_info[\"balancing\"]\n",
    "    info[\"init-map\"] = init_map\n",
    "    info[\"map\"] = env.unwrapped.get_map()\n",
    "    return env, info, reward_total"
   ],
   "metadata": {
    "collapsed": false
   },
   "id": "35fc8ff35a584830"
  },
  {
   "cell_type": "code",
   "execution_count": null,
   "outputs": [],
   "source": [
    "# do balancing via trained model\n",
    "env, info, reward = inference(model, env)"
   ],
   "metadata": {
    "collapsed": false
   },
   "id": "cf8e4c27cc9e4428"
  }
 ],
 "metadata": {
  "kernelspec": {
   "display_name": "Python 3",
   "language": "python",
   "name": "python3"
  },
  "language_info": {
   "codemirror_mode": {
    "name": "ipython",
    "version": 2
   },
   "file_extension": ".py",
   "mimetype": "text/x-python",
   "name": "python",
   "nbconvert_exporter": "python",
   "pygments_lexer": "ipython2",
   "version": "2.7.6"
  }
 },
 "nbformat": 4,
 "nbformat_minor": 5
}
